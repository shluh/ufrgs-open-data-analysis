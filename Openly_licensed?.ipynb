{
 "cells": [
  {
   "cell_type": "code",
   "execution_count": 5,
   "id": "0cd00cac",
   "metadata": {},
   "outputs": [],
   "source": [
    "# importing libs\n",
    "get_ipython().magic(u'matplotlib inline')\n",
    "import pandas as pd\n",
    "import matplotlib.pyplot as plt\n",
    "import requests\n",
    "import json\n",
    "import operator\n",
    "plt.style.use(\"ggplot\")"
   ]
  },
  {
   "cell_type": "code",
   "execution_count": null,
   "id": "27ffa13e",
   "metadata": {},
   "outputs": [],
   "source": [
    "# GERAIS\n",
    "portal_url = 'https://legado.dados.gov.br/'\n",
    "tag = 'license_id'\n",
    "api_action = f'api/3/action/package_search?facet.field=[%22{tag}%22]'"
   ]
  },
  {
   "cell_type": "code",
   "execution_count": 7,
   "id": "678d6ca5",
   "metadata": {},
   "outputs": [],
   "source": [
    "\n",
    "def get_licence_list(url):\n",
    "    general_licence_list = pd.read_json(f'{url}/api/3/action/license_list').get(\"result\")\n",
    "    _general_licence_dyct = {}\n",
    "\n",
    "    for x in general_licence_list:\n",
    "        _general_licence_dyct[x['id']] = x['title']\n",
    "\n",
    "    return _general_licence_dyct\n",
    "    "
   ]
  },
  {
   "cell_type": "code",
   "execution_count": 8,
   "id": "c78c79bf",
   "metadata": {},
   "outputs": [],
   "source": [
    "\n",
    "def get_org_licenses(portal_url, org_url):\n",
    "    curr_licenses = pd.read_json(org_url).get(\"result\")\n",
    "\n",
    "    curr_licence_dyct = curr_licenses['facets']['license_id']\n",
    "\n",
    "    new_dyct = {}\n",
    "    licence_dyct = get_licence_list(portal_url)\n",
    "    for x in curr_licence_dyct:       \n",
    "        if x in licence_dyct:\n",
    "            new_dyct[licence_dyct[x]] = curr_licence_dyct[x]\n",
    "\n",
    "\n",
    "    print(new_dyct)"
   ]
  },
  {
   "cell_type": "code",
   "execution_count": 31,
   "id": "8567c670",
   "metadata": {},
   "outputs": [
    {
     "name": "stdout",
     "output_type": "stream",
     "text": [
      "{'Outra (Aberta)': 4, 'Licença não especificada': 372, 'Creative Commons Atribuição': 6, 'Licença Aberta para Bases de Dados (ODbL) do Open Data Commons': 6, 'Outra (Domínio Público)': 36}\n"
     ]
    }
   ],
   "source": [
    "# National Statistics+National Map (IBGE)\n",
    "org_id = 'instituto-brasileiro-de-geografia-e-estatistica-ibge'\n",
    "add_organization = f'&fq=organization:{org_id}'\n",
    "url_IBGE_machine_readable = f'{portal_url}{api_action}{add_organization}'\n",
    "\n",
    "get_org_licenses(portal_url, url_IBGE_machine_readable)"
   ]
  },
  {
   "cell_type": "code",
   "execution_count": 32,
   "id": "b1c63d92",
   "metadata": {},
   "outputs": [
    {
     "name": "stdout",
     "output_type": "stream",
     "text": [
      "{'Outra (Atribuição)': 4, 'Outra (Aberta)': 2}\n"
     ]
    }
   ],
   "source": [
    "# National Statistics+National Map  (IPEA)\n",
    "\n",
    "org_id = 'ipea'\n",
    "add_organization = f'&fq=organization:{org_id}'\n",
    "url_IPEA_machine_readable = f'{portal_url}{api_action}{add_organization}'\n",
    "\n",
    "get_org_licenses(portal_url, url_IPEA_machine_readable)"
   ]
  },
  {
   "cell_type": "code",
   "execution_count": 33,
   "id": "038f9201",
   "metadata": {},
   "outputs": [
    {
     "name": "stdout",
     "output_type": "stream",
     "text": [
      "{'Creative Commons Atribuição e Compartilhamento pela mesma Licença': 1}\n"
     ]
    }
   ],
   "source": [
    "# Legislation \n",
    "\n",
    "org_id = 'senado-federal-sf'\n",
    "add_organization = f'&fq=organization:{org_id}'\n",
    "url_SF_machine_readable = f'{portal_url}{api_action}{add_organization}'\n",
    "\n",
    "get_org_licenses(portal_url, url_SF_machine_readable)"
   ]
  },
  {
   "cell_type": "code",
   "execution_count": 35,
   "id": "b70c667c",
   "metadata": {},
   "outputs": [
    {
     "name": "stdout",
     "output_type": "stream",
     "text": [
      "Org:  tse-agel\n",
      "{'Creative Commons Atribuição': 103}\n",
      "Org:  tse-asepa\n",
      "{'Creative Commons Atribuição': 20}\n",
      "Org:  tse-cge\n",
      "{'Creative Commons Atribuição': 4}\n",
      "Org:  tse-sgp\n",
      "{'Creative Commons Atribuição': 3}\n",
      "Org:  tse-sti\n",
      "{}\n",
      "Org:  tse-sjd\n",
      "{'Creative Commons Atribuição': 10}\n"
     ]
    }
   ],
   "source": [
    "# Election Results & TSE\n",
    "portal_url_tse = 'https://dadosabertos.tse.jus.br/'\n",
    "tag = 'license_id'\n",
    "api_action = f'api/3/action/package_search?facet.field=[%22{tag}%22]'\n",
    "org_id = 'tse-agel'\n",
    "add_organization = f'&fq=organization:{org_id}'\n",
    "url_tse_agel_machine_readable = f'{portal_url_tse}{api_action}{add_organization}'\n",
    "\n",
    "print('Org: ',org_id)\n",
    "get_org_licenses(portal_url_tse, url_tse_agel_machine_readable)\n",
    "#\n",
    "org_id = 'tse-asepa'\n",
    "add_organization = f'&fq=organization:{org_id}'\n",
    "url_tse_agel_machine_readable = f'{portal_url_tse}{api_action}{add_organization}'\n",
    "print('Org: ',org_id)\n",
    "get_org_licenses(portal_url_tse, url_tse_agel_machine_readable)\n",
    "#\n",
    "org_id = 'tse-cge'\n",
    "add_organization = f'&fq=organization:{org_id}'\n",
    "url_tse_agel_machine_readable = f'{portal_url_tse}{api_action}{add_organization}'\n",
    "print('Org: ',org_id)\n",
    "get_org_licenses(portal_url_tse, url_tse_agel_machine_readable)\n",
    "#\n",
    "org_id = 'tse-sgp'\n",
    "add_organization = f'&fq=organization:{org_id}'\n",
    "url_tse_agel_machine_readable = f'{portal_url_tse}{api_action}{add_organization}'\n",
    "print('Org: ',org_id)\n",
    "get_org_licenses(portal_url_tse, url_tse_agel_machine_readable)\n",
    "#\n",
    "org_id = 'tse-sti'\n",
    "add_organization = f'&fq=organization:{org_id}'\n",
    "url_tse_agel_machine_readable = f'{portal_url_tse}{api_action}{add_organization}'\n",
    "print('Org: ',org_id)\n",
    "get_org_licenses(portal_url_tse, url_tse_agel_machine_readable)\n",
    "#\n",
    "org_id = 'tse-sjd'\n",
    "add_organization = f'&fq=organization:{org_id}'\n",
    "url_tse_agel_machine_readable = f'{portal_url_tse}{api_action}{add_organization}'\n",
    "print('Org: ',org_id)\n",
    "get_org_licenses(portal_url_tse, url_tse_agel_machine_readable)"
   ]
  },
  {
   "cell_type": "code",
   "execution_count": 36,
   "id": "c30e84c5",
   "metadata": {},
   "outputs": [
    {
     "name": "stdout",
     "output_type": "stream",
     "text": [
      "{'Outra (Aberta)': 13, 'Licença não especificada': 16, 'Creative Commons Atribuição': 8, 'Outra (Domínio Público)': 5}\n"
     ]
    }
   ],
   "source": [
    "# Government Budget and Spending & CGU\n",
    "org_id = 'ministerio-da-transparencia-e-controladoria-geral-da-uniao-cgu'\n",
    "add_organization = f'&fq=organization:{org_id}'\n",
    "url_cgu_machine_readable = f'{portal_url}{api_action}{add_organization}'\n",
    "\n",
    "get_org_licenses(portal_url,url_cgu_machine_readable)"
   ]
  },
  {
   "cell_type": "code",
   "execution_count": 37,
   "id": "9c1c2828",
   "metadata": {},
   "outputs": [
    {
     "name": "stdout",
     "output_type": "stream",
     "text": [
      "{'Licença não especificada': 2, 'Creative Commons Atribuição': 1}\n"
     ]
    }
   ],
   "source": [
    "# Government Budget and Spending & TCU\n",
    "org_id = 'tribunal-de-contas-da-uniao-tcu'\n",
    "add_organization = f'&fq=organization:{org_id}'\n",
    "url_tcu_machine_readable = f'{portal_url}{api_action}{add_organization}'\n",
    "\n",
    "get_org_licenses(portal_url, url_tcu_machine_readable)"
   ]
  },
  {
   "cell_type": "code",
   "execution_count": 9,
   "id": "e27a17a9",
   "metadata": {},
   "outputs": [
    {
     "name": "stdout",
     "output_type": "stream",
     "text": [
      "{'Licença Aberta para Bases de Dados (ODbL) do Open Data Commons': 46}\n"
     ]
    }
   ],
   "source": [
    "# Government Budget and Spending & BNDES\n",
    "portal_url_bndes ='https://dadosabertos.bndes.gov.br/pt_BR/'\n",
    "tag = 'license_id'\n",
    "api_action = f'api/3/action/package_search?facet.field=[%22{tag}%22]'\n",
    "bndes_org_id = 'bndes'\n",
    "add_organization = f'&fq=organization:{bndes_org_id}'\n",
    "url_bndes_machine_readable = f'{portal_url_bndes}{api_action}{add_organization}'\n",
    "get_org_licenses(portal_url_bndes, url_bndes_machine_readable)\n",
    "        "
   ]
  },
  {
   "cell_type": "code",
   "execution_count": 38,
   "id": "f9b4c1ab",
   "metadata": {},
   "outputs": [
    {
     "name": "stdout",
     "output_type": "stream",
     "text": [
      "{'Creative Commons Atribuição': 32}\n"
     ]
    }
   ],
   "source": [
    "# Pollutant Emissions MMA/IBAMA\n",
    "portal_url_mma = 'https://dados.mma.gov.br/'\n",
    "tag = 'license_id'\n",
    "api_action = f'api/3/action/package_search?facet.field=[%22{tag}%22]'\n",
    "org_id = 'ministerio-do-meio-ambiente'\n",
    "add_organization = f'&fq=organization:{org_id}'\n",
    "url_mma_machine_readable = f'{portal_url_mma}{api_action}{add_organization}'\n",
    "\n",
    "get_org_licenses(portal_url, url_mma_machine_readable)"
   ]
  },
  {
   "cell_type": "code",
   "execution_count": 39,
   "id": "f4372e0c",
   "metadata": {},
   "outputs": [
    {
     "name": "stdout",
     "output_type": "stream",
     "text": [
      "{'Outra (Aberta)': 20, 'Outra (Domínio Público)': 35, 'Creative Commons Atribuição': 4, 'Licença Aberta para Bases de Dados (ODbL) do Open Data Commons': 7}\n"
     ]
    }
   ],
   "source": [
    "# Pollutant Emissions MMA/IBAMA\n",
    "org_id = 'instituto-brasileiro-do-meio-ambiente-e-dos-recursos-naturais-renovaveis-ibama'\n",
    "add_organization = f'&fq=organization:{org_id}'\n",
    "url_ibama_machine_readable = f'{portal_url}{api_action}{add_organization}'\n",
    "\n",
    "get_org_licenses(portal_url, url_ibama_machine_readable)"
   ]
  },
  {
   "cell_type": "code",
   "execution_count": 38,
   "id": "947c38f0",
   "metadata": {},
   "outputs": [],
   "source": [
    "# Company Register & DREI (NA)\n",
    "# Location datasets & (NA)"
   ]
  },
  {
   "cell_type": "code",
   "execution_count": 42,
   "id": "d02effb5",
   "metadata": {},
   "outputs": [],
   "source": [
    "# Water Quality & ANA \n",
    "# >>>>> Não há Licenças que correspondam a essa busca <<<<<\n",
    "portal_url_ana = 'https://dados.ana.gov.br/'\n",
    "tag = 'license_id'\n",
    "api_action = f'api/3/action/package_search?facet.field=[%22{tag}%22]'\n",
    "org_id = 'ana'\n",
    "add_organization = f'&fq=organization:{org_id}'\n",
    "url_ana_machine_readable = f'{portal_url_ana}{api_action}{add_organization}'\n",
    "\n",
    "get_org_licenses(portal_url_ana, url_ana_machine_readable)"
   ]
  },
  {
   "cell_type": "code",
   "execution_count": 43,
   "id": "96be0887",
   "metadata": {},
   "outputs": [
    {
     "name": "stdout",
     "output_type": "stream",
     "text": [
      "{'Outra (Aberta)': 2, 'Creative Commons Atribuição': 48, 'Licença Aberta para Bases de Dados (ODbL) do Open Data Commons': 6}\n"
     ]
    }
   ],
   "source": [
    "# Weather forecast & INMET\n",
    "\n",
    "org_id = 'ministerio-da-agricultura-pecuaria-e-abastecimento-mapa'\n",
    "add_organization = f'&fq=organization:{org_id}'\n",
    "url_inmet_machine_readable = f'{portal_url}{api_action}{add_organization}'\n",
    "\n",
    "get_org_licenses(portal_url, url_inmet_machine_readable)"
   ]
  },
  {
   "cell_type": "code",
   "execution_count": 44,
   "id": "188b590c",
   "metadata": {},
   "outputs": [
    {
     "name": "stdout",
     "output_type": "stream",
     "text": [
      "{'Creative Commons Atribuição': 1}\n"
     ]
    }
   ],
   "source": [
    "# Land Ownership & INCRA\n",
    "\n",
    "org_id = 'instituto-nacional-de-colonizacao-e-reforma-agraria-incra'\n",
    "add_organization = f'&fq=organization:{org_id}'\n",
    "url_incra_machine_readable = f'{portal_url}{api_action}{add_organization}'\n",
    "get_org_licenses(portal_url, url_incra_machine_readable)"
   ]
  },
  {
   "cell_type": "code",
   "execution_count": null,
   "id": "3272fb99",
   "metadata": {},
   "outputs": [],
   "source": []
  }
 ],
 "metadata": {
  "kernelspec": {
   "display_name": "Python 3 (ipykernel)",
   "language": "python",
   "name": "python3"
  },
  "language_info": {
   "codemirror_mode": {
    "name": "ipython",
    "version": 3
   },
   "file_extension": ".py",
   "mimetype": "text/x-python",
   "name": "python",
   "nbconvert_exporter": "python",
   "pygments_lexer": "ipython3",
   "version": "3.8.10"
  }
 },
 "nbformat": 4,
 "nbformat_minor": 5
}
