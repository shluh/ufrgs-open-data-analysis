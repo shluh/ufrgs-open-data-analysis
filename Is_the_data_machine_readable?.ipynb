{
 "cells": [
  {
   "cell_type": "code",
   "execution_count": 3,
   "id": "0cd00cac",
   "metadata": {},
   "outputs": [],
   "source": [
    "# importing libs\n",
    "get_ipython().magic(u'matplotlib inline')\n",
    "import pandas as pd\n",
    "import matplotlib.pyplot as plt\n",
    "import requests\n",
    "import json\n",
    "import operator\n",
    "plt.style.use(\"ggplot\")"
   ]
  },
  {
   "cell_type": "code",
   "execution_count": null,
   "id": "837e7400",
   "metadata": {},
   "outputs": [],
   "source": [
    "portal_url = 'https://legado.dados.gov.br/'\n",
    "tag = 'res_format'\n",
    "api_action = f'api/3/action/package_search?facet.field=[%22{tag}%22]' "
   ]
  },
  {
   "cell_type": "code",
   "execution_count": 4,
   "id": "c4e793d7",
   "metadata": {},
   "outputs": [],
   "source": [
    "#get available formats\n",
    "\n",
    "def available_formats(org_url):\n",
    "    \n",
    "    curr_formats = pd.read_json(org_url).get(\"result\")\n",
    "    curr_formats_dyct = curr_formats['facets']['res_format']\n",
    "    sum_total_resources = 0\n",
    "    total_datasets_avaiables = curr_formats['count']\n",
    "    sum_readable = 0\n",
    "    readable_formats = {}\n",
    "\n",
    "    for key in sorted(curr_formats_dyct, reverse=True):\n",
    "        keyl = key.lower()\n",
    "        sum_total_resources += curr_formats_dyct[key]\n",
    "\n",
    "        if keyl in ['xls', 'csv', 'json', 'xml']: \n",
    "            sum_readable += curr_formats_dyct[key]\n",
    "\n",
    "            if keyl not in readable_formats:\n",
    "                readable_formats[keyl] = curr_formats_dyct[key]\n",
    "            else:\n",
    "                readable_formats[keyl] = readable_formats[keyl]+curr_formats_dyct[key]\n",
    "\n",
    "    sorted_readable_formats = dict( sorted(readable_formats.items(), key=operator.itemgetter(1),reverse=True))\n",
    "\n",
    "    print('Data Formats: ', sorted_readable_formats)\n",
    "    print('Total dataset available: ', total_datasets_avaiables)\n",
    "    print('Total resources available: ', sum_total_resources)\n",
    "    print('Total resources readable: ', sum_readable)\n",
    "    \n",
    "    \n",
    "    readable_result = sum_readable/sum_total_resources if sum_total_resources > 0 else 0\n",
    "    print(round( readable_result * 100, 2), '% readable formats')"
   ]
  },
  {
   "cell_type": "code",
   "execution_count": 28,
   "id": "8567c670",
   "metadata": {},
   "outputs": [
    {
     "name": "stdout",
     "output_type": "stream",
     "text": [
      "Data Formats:  {'csv': 372, 'xml': 49, 'json': 49}\n",
      "Total dataset available:  424\n",
      "Total resources available:  2052\n",
      "Total resources readable:  470\n",
      "22.9 % readable formats\n"
     ]
    }
   ],
   "source": [
    "# IBGE\n",
    "\n",
    "\n",
    "# National Statistics+National Map (IBGE/IPEA) \n",
    "# IBGE\n",
    "org_id = 'instituto-brasileiro-de-geografia-e-estatistica-ibge'\n",
    "add_organization = f'&fq=organization:{org_id}'\n",
    "url_IBGE_machine_readable = f'{portal_url}{api_action}{add_organization}'\n",
    "\n",
    "available_formats(url_IBGE_machine_readable)"
   ]
  },
  {
   "cell_type": "code",
   "execution_count": 29,
   "id": "b1c63d92",
   "metadata": {},
   "outputs": [
    {
     "name": "stdout",
     "output_type": "stream",
     "text": [
      "Data Formats:  {'json': 3, 'csv': 1}\n",
      "Total dataset available:  6\n",
      "Total resources available:  17\n",
      "Total resources readable:  4\n",
      "23.53 % readable formats\n"
     ]
    }
   ],
   "source": [
    "# National Statistics+National Map (IBGE/IPEA) \n",
    "# IPEA\n",
    "\n",
    "org_id = 'ipea'\n",
    "add_organization = f'&fq=organization:{org_id}'\n",
    "url_IPEA_machine_readable = f'{portal_url}{api_action}{add_organization}'\n",
    "\n",
    "available_formats(url_IPEA_machine_readable)"
   ]
  },
  {
   "cell_type": "code",
   "execution_count": 30,
   "id": "038f9201",
   "metadata": {},
   "outputs": [
    {
     "name": "stdout",
     "output_type": "stream",
     "text": [
      "Data Formats:  {'xls': 1, 'csv': 1}\n",
      "Total dataset available:  2\n",
      "Total resources available:  3\n",
      "Total resources readable:  2\n",
      "66.67 % readable formats\n"
     ]
    }
   ],
   "source": [
    "# Legislation \n",
    "\n",
    "org_id = 'senado-federal-sf'\n",
    "add_organization = f'&fq=organization:{org_id}'\n",
    "url_IPEA_machine_readable = f'{portal_url}{api_action}{add_organization}'\n",
    "\n",
    "available_formats(url_IPEA_machine_readable)"
   ]
  },
  {
   "cell_type": "code",
   "execution_count": 32,
   "id": "b70c667c",
   "metadata": {},
   "outputs": [
    {
     "name": "stdout",
     "output_type": "stream",
     "text": [
      "Org:  tse-agel\n",
      "Data Formats:  {'csv': 56}\n",
      "Total dataset available:  104\n",
      "Total resources available:  117\n",
      "Total resources readable:  56\n",
      "47.86 % readable formats\n",
      "Org:  tse-asepa\n",
      "Data Formats:  {'csv': 20}\n",
      "Total dataset available:  21\n",
      "Total resources available:  27\n",
      "Total resources readable:  20\n",
      "74.07 % readable formats\n",
      "Org:  tse-cge\n",
      "Data Formats:  {'csv': 4}\n",
      "Total dataset available:  4\n",
      "Total resources available:  4\n",
      "Total resources readable:  4\n",
      "100.0 % readable formats\n",
      "Org:  tse-sgp\n",
      "Data Formats:  {'csv': 4}\n",
      "Total dataset available:  4\n",
      "Total resources available:  4\n",
      "Total resources readable:  4\n",
      "100.0 % readable formats\n",
      "Org:  tse-sti\n",
      "Data Formats:  {'csv': 1}\n",
      "Total dataset available:  1\n",
      "Total resources available:  1\n",
      "Total resources readable:  1\n",
      "100.0 % readable formats\n",
      "Org:  tse-sjd\n",
      "Data Formats:  {'csv': 10}\n",
      "Total dataset available:  10\n",
      "Total resources available:  16\n",
      "Total resources readable:  10\n",
      "62.5 % readable formats\n"
     ]
    }
   ],
   "source": [
    "# Election Results & TSE\n",
    "# 169 disponiveis, 95 readable ; 56%\n",
    "portal_url_tse = 'https://dadosabertos.tse.jus.br/'\n",
    "tag = 'res_format'\n",
    "api_action = f'api/3/action/package_search?facet.field=[%22{tag}%22]'\n",
    "org_id = 'tse-agel'\n",
    "add_organization = f'&fq=organization:{org_id}'\n",
    "url_tse_agel_machine_readable = f'{portal_url_tse}{api_action}{add_organization}'\n",
    "\n",
    "print('Org: ',org_id)\n",
    "available_formats(url_tse_agel_machine_readable)\n",
    "#\n",
    "org_id = 'tse-asepa'\n",
    "add_organization = f'&fq=organization:{org_id}'\n",
    "url_tse_agel_machine_readable = f'{portal_url_tse}{api_action}{add_organization}'\n",
    "print('Org: ',org_id)\n",
    "available_formats(url_tse_agel_machine_readable)\n",
    "#\n",
    "org_id = 'tse-cge'\n",
    "add_organization = f'&fq=organization:{org_id}'\n",
    "url_tse_agel_machine_readable = f'{portal_url_tse}{api_action}{add_organization}'\n",
    "print('Org: ',org_id)\n",
    "available_formats(url_tse_agel_machine_readable)\n",
    "#\n",
    "org_id = 'tse-sgp'\n",
    "add_organization = f'&fq=organization:{org_id}'\n",
    "url_tse_agel_machine_readable = f'{portal_url_tse}{api_action}{add_organization}'\n",
    "print('Org: ',org_id)\n",
    "available_formats(url_tse_agel_machine_readable)\n",
    "#\n",
    "org_id = 'tse-sti'\n",
    "add_organization = f'&fq=organization:{org_id}'\n",
    "url_tse_agel_machine_readable = f'{portal_url_tse}{api_action}{add_organization}'\n",
    "print('Org: ',org_id)\n",
    "available_formats(url_tse_agel_machine_readable)\n",
    "#\n",
    "org_id = 'tse-sjd'\n",
    "add_organization = f'&fq=organization:{org_id}'\n",
    "url_tse_agel_machine_readable = f'{portal_url_tse}{api_action}{add_organization}'\n",
    "print('Org: ',org_id)\n",
    "available_formats(url_tse_agel_machine_readable)"
   ]
  },
  {
   "cell_type": "code",
   "execution_count": 6,
   "id": "c30e84c5",
   "metadata": {},
   "outputs": [
    {
     "name": "stdout",
     "output_type": "stream",
     "text": [
      "Data Formats:  {'csv': 16, 'xml': 1}\n",
      "Total dataset available:  43\n",
      "Total resources available:  45\n",
      "Total resources readable:  17\n",
      "37.78 % readable formats\n"
     ]
    }
   ],
   "source": [
    "# Government Budget and Spending & CGU\n",
    "org_id = 'ministerio-da-transparencia-e-controladoria-geral-da-uniao-cgu'\n",
    "add_organization = f'&fq=organization:{org_id}'\n",
    "url_cgu_machine_readable = f'{portal_url}{api_action}{add_organization}'\n",
    "\n",
    "available_formats(url_cgu_machine_readable)"
   ]
  },
  {
   "cell_type": "code",
   "execution_count": 8,
   "id": "37f505d3",
   "metadata": {},
   "outputs": [
    {
     "name": "stdout",
     "output_type": "stream",
     "text": [
      "Data Formats:  {'csv': 45, 'xls': 1, 'json': 1}\n",
      "Total dataset available:  46\n",
      "Total resources available:  93\n",
      "Total resources readable:  47\n",
      "50.54 % readable formats\n"
     ]
    }
   ],
   "source": [
    "# Government Budget and Spending & BNDES\n",
    "portal_url_bndes ='https://dadosabertos.bndes.gov.br/pt_BR/'\n",
    "org_id = 'bndes'\n",
    "add_organization = f'&fq=organization:{org_id}'\n",
    "url_cgu_machine_readable = f'{portal_url_bndes}{api_action}{add_organization}'\n",
    "\n",
    "available_formats(url_cgu_machine_readable)"
   ]
  },
  {
   "cell_type": "code",
   "execution_count": 34,
   "id": "9c1c2828",
   "metadata": {},
   "outputs": [
    {
     "name": "stdout",
     "output_type": "stream",
     "text": [
      "Data Formats:  {'csv': 2}\n",
      "Total dataset available:  3\n",
      "Total resources available:  7\n",
      "Total resources readable:  2\n",
      "28.57 % readable formats\n"
     ]
    }
   ],
   "source": [
    "# Government Budget and Spending & TCU\n",
    "org_id = 'tribunal-de-contas-da-uniao-tcu'\n",
    "add_organization = f'&fq=organization:{org_id}'\n",
    "url_tcu_machine_readable = f'{portal_url}{api_action}{add_organization}'\n",
    "\n",
    "available_formats(url_tcu_machine_readable)"
   ]
  },
  {
   "cell_type": "code",
   "execution_count": 36,
   "id": "f9b4c1ab",
   "metadata": {},
   "outputs": [
    {
     "name": "stdout",
     "output_type": "stream",
     "text": [
      "Data Formats:  {'csv': 26}\n",
      "Total dataset available:  32\n",
      "Total resources available:  59\n",
      "Total resources readable:  26\n",
      "44.07 % readable formats\n"
     ]
    }
   ],
   "source": [
    "# Pollutant Emissions MMA/IBAMA\n",
    "portal_url_mma = 'https://dados.mma.gov.br/'\n",
    "tag = 'res_format'\n",
    "api_action = f'api/3/action/package_search?facet.field=[%22{tag}%22]'\n",
    "org_id = 'ministerio-do-meio-ambiente'\n",
    "add_organization = f'&fq=organization:{org_id}'\n",
    "url_mma_machine_readable = f'{portal_url_mma}{api_action}{add_organization}'\n",
    "\n",
    "available_formats(url_mma_machine_readable)"
   ]
  },
  {
   "cell_type": "code",
   "execution_count": 37,
   "id": "f4372e0c",
   "metadata": {},
   "outputs": [
    {
     "name": "stdout",
     "output_type": "stream",
     "text": [
      "Data Formats:  {'csv': 65, 'json': 63, 'xml': 58}\n",
      "Total dataset available:  66\n",
      "Total resources available:  255\n",
      "Total resources readable:  186\n",
      "72.94 % readable formats\n"
     ]
    }
   ],
   "source": [
    "# Pollutant Emissions MMA/IBAMA \n",
    "\n",
    "# portal_url_ibama = 'https://dadosabertos.ibama.gov.br/'\n",
    "# tag = 'res_format'\n",
    "# api_action = f'api/3/action/package_search?facet.field=[%22{tag}%22]'\n",
    "# org_id = 'ibama'\n",
    "\n",
    "org_id = 'instituto-brasileiro-do-meio-ambiente-e-dos-recursos-naturais-renovaveis-ibama'\n",
    "add_organization = f'&fq=organization:{org_id}'\n",
    "url_ibama_machine_readable = f'{portal_url}{api_action}{add_organization}'\n",
    "\n",
    "available_formats(url_ibama_machine_readable)"
   ]
  },
  {
   "cell_type": "code",
   "execution_count": 38,
   "id": "947c38f0",
   "metadata": {},
   "outputs": [],
   "source": [
    "# Company Register & DREI (NA)\n",
    "# Location datasets & (NA)"
   ]
  },
  {
   "cell_type": "code",
   "execution_count": 39,
   "id": "d02effb5",
   "metadata": {},
   "outputs": [
    {
     "name": "stdout",
     "output_type": "stream",
     "text": [
      "Data Formats:  {'csv': 249}\n",
      "Total dataset available:  308\n",
      "Total resources available:  1611\n",
      "Total resources readable:  249\n",
      "15.46 % readable formats\n"
     ]
    }
   ],
   "source": [
    "# Water Quality & ANA\n",
    "portal_url_ana = 'https://dados.ana.gov.br/'\n",
    "tag = 'res_format'\n",
    "api_action = f'api/3/action/package_search?facet.field=[%22{tag}%22]'\n",
    "org_id = 'ana'\n",
    "add_organization = f'&fq=organization:{org_id}'\n",
    "url_ana_machine_readable = f'{portal_url_ana}{api_action}{add_organization}'\n",
    "\n",
    "available_formats(url_ana_machine_readable)"
   ]
  },
  {
   "cell_type": "code",
   "execution_count": 40,
   "id": "96be0887",
   "metadata": {},
   "outputs": [
    {
     "name": "stdout",
     "output_type": "stream",
     "text": [
      "Data Formats:  {'csv': 27, 'xml': 14, 'json': 12}\n",
      "Total dataset available:  56\n",
      "Total resources available:  95\n",
      "Total resources readable:  53\n",
      "55.79 % readable formats\n"
     ]
    }
   ],
   "source": [
    "# Weather forecast & INMET\n",
    "\n",
    "org_id = 'ministerio-da-agricultura-pecuaria-e-abastecimento-mapa'\n",
    "add_organization = f'&fq=organization:{org_id}'\n",
    "url_inmet_machine_readable = f'{portal_url}{api_action}{add_organization}'\n",
    "\n",
    "available_formats(url_inmet_machine_readable)"
   ]
  },
  {
   "cell_type": "code",
   "execution_count": 41,
   "id": "188b590c",
   "metadata": {},
   "outputs": [
    {
     "name": "stdout",
     "output_type": "stream",
     "text": [
      "Data Formats:  {}\n",
      "Total dataset available:  1\n",
      "Total resources available:  1\n",
      "Total resources readable:  0\n",
      "0.0 % readable formats\n"
     ]
    }
   ],
   "source": [
    "# Land Ownership & INCRA\n",
    "\n",
    "org_id = 'instituto-nacional-de-colonizacao-e-reforma-agraria-incra'\n",
    "add_organization = f'&fq=organization:{org_id}'\n",
    "url_incra_machine_readable = f'{portal_url}{api_action}{add_organization}'\n",
    "url_inmet_machine_readable\n",
    "available_formats(url_incra_machine_readable)"
   ]
  },
  {
   "cell_type": "code",
   "execution_count": null,
   "id": "3272fb99",
   "metadata": {},
   "outputs": [],
   "source": []
  }
 ],
 "metadata": {
  "kernelspec": {
   "display_name": "Python 3 (ipykernel)",
   "language": "python",
   "name": "python3"
  },
  "language_info": {
   "codemirror_mode": {
    "name": "ipython",
    "version": 3
   },
   "file_extension": ".py",
   "mimetype": "text/x-python",
   "name": "python",
   "nbconvert_exporter": "python",
   "pygments_lexer": "ipython3",
   "version": "3.8.10"
  }
 },
 "nbformat": 4,
 "nbformat_minor": 5
}
