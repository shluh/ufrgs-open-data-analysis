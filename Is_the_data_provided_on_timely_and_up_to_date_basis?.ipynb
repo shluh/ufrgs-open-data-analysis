{
 "cells": [
  {
   "cell_type": "code",
   "execution_count": 2,
   "id": "0cd00cac",
   "metadata": {},
   "outputs": [],
   "source": [
    "# importing libs\n",
    "get_ipython().magic(u'matplotlib inline')\n",
    "import pandas as pd\n",
    "import matplotlib.pyplot as plt\n",
    "import requests\n",
    "import json\n",
    "import operator\n",
    "plt.style.use(\"ggplot\")"
   ]
  },
  {
   "cell_type": "code",
   "execution_count": 3,
   "id": "7ab79e7c",
   "metadata": {},
   "outputs": [],
   "source": [
    "br_portal_url = 'https://legado.dados.gov.br/'\n",
    "br_api_action = f'api/3/action/package_search' "
   ]
  },
  {
   "cell_type": "code",
   "execution_count": 171,
   "id": "b07405e2",
   "metadata": {
    "scrolled": true
   },
   "outputs": [
    {
     "name": "stdout",
     "output_type": "stream",
     "text": [
      "Total of datasets:  424\n",
      "Total of datasets with freshness info available:  53\n",
      "Percentage of dataset with freshness information: 12.5 %\n",
      "Up to date Datasets:  2\n",
      "Not Up to date Datasets:  51\n",
      "Percentage of updated information (of the total that informed freshness): 3.77 %\n"
     ]
    }
   ],
   "source": [
    "# National Statistics+National Map  \n",
    "# IBGE\n",
    "\n",
    "ibge_org_id = 'instituto-brasileiro-de-geografia-e-estatistica-ibge'\n",
    "\n",
    "return_freshness_info(br_portal_url, br_api_action, ibge_org_id)"
   ]
  },
  {
   "cell_type": "code",
   "execution_count": 172,
   "id": "663f8b7f",
   "metadata": {},
   "outputs": [
    {
     "name": "stdout",
     "output_type": "stream",
     "text": [
      "Total of datasets:  6\n",
      "Total of datasets with freshness info available:  0\n",
      "Percentage of dataset with freshness information: 0.0 %\n",
      "Up to date Datasets:  0\n",
      "Not Up to date Datasets:  0\n",
      "Percentage of updated information (of the total that informed freshness): 0 %\n"
     ]
    }
   ],
   "source": [
    "# National Statistics+National Map  \n",
    "# IPEA\n",
    "\n",
    "ipea_org_id = 'ipea'\n",
    "return_freshness_info(br_portal_url, br_api_action, ipea_org_id)"
   ]
  },
  {
   "cell_type": "code",
   "execution_count": 173,
   "id": "238fb6af",
   "metadata": {},
   "outputs": [
    {
     "name": "stdout",
     "output_type": "stream",
     "text": [
      "Total of datasets:  2\n",
      "Total of datasets with freshness info available:  0\n",
      "Percentage of dataset with freshness information: 0.0 %\n",
      "Up to date Datasets:  0\n",
      "Not Up to date Datasets:  0\n",
      "Percentage of updated information (of the total that informed freshness): 0 %\n"
     ]
    }
   ],
   "source": [
    "# Legislation \n",
    "\n",
    "sf_org_id = 'senado-federal-sf'\n",
    "return_freshness_info(br_portal_url, br_api_action, sf_org_id)"
   ]
  },
  {
   "cell_type": "code",
   "execution_count": 174,
   "id": "d0331188",
   "metadata": {},
   "outputs": [
    {
     "name": "stdout",
     "output_type": "stream",
     "text": [
      "Org:  tse-agel\n",
      "Total of datasets:  104\n",
      "Total of datasets with freshness info available:  4\n",
      "Percentage of dataset with freshness information: 3.85 %\n",
      "Up to date Datasets:  0\n",
      "Not Up to date Datasets:  4\n",
      "Percentage of updated information (of the total that informed freshness): 0.0 %\n",
      "-----\n",
      "Org:  tse-asepa\n",
      "Total of datasets:  21\n",
      "Total of datasets with freshness info available:  12\n",
      "Percentage of dataset with freshness information: 57.14 %\n",
      "Up to date Datasets:  0\n",
      "Not Up to date Datasets:  12\n",
      "Percentage of updated information (of the total that informed freshness): 0.0 %\n",
      "-----\n",
      "Org:  tse-cge\n",
      "Total of datasets:  4\n",
      "Total of datasets with freshness info available:  0\n",
      "Percentage of dataset with freshness information: 0.0 %\n",
      "Up to date Datasets:  0\n",
      "Not Up to date Datasets:  0\n",
      "Percentage of updated information (of the total that informed freshness): 0 %\n",
      "-----\n",
      "Org:  tse-sgp\n",
      "Total of datasets:  4\n",
      "Total of datasets with freshness info available:  2\n",
      "Percentage of dataset with freshness information: 50.0 %\n",
      "Up to date Datasets:  0\n",
      "Not Up to date Datasets:  2\n",
      "Percentage of updated information (of the total that informed freshness): 0.0 %\n",
      "-----\n",
      "Org:  tse-sti\n",
      "Total of datasets:  1\n",
      "Total of datasets with freshness info available:  0\n",
      "Percentage of dataset with freshness information: 0.0 %\n",
      "Up to date Datasets:  0\n",
      "Not Up to date Datasets:  0\n",
      "Percentage of updated information (of the total that informed freshness): 0 %\n",
      "-----\n",
      "Org:  tse-sjd\n",
      "Total of datasets:  10\n",
      "Total of datasets with freshness info available:  2\n",
      "Percentage of dataset with freshness information: 20.0 %\n",
      "Up to date Datasets:  0\n",
      "Not Up to date Datasets:  2\n",
      "Percentage of updated information (of the total that informed freshness): 0.0 %\n",
      "-----\n"
     ]
    }
   ],
   "source": [
    "# Election Results & TSE\n",
    "portal_url_tse = 'https://dadosabertos.tse.jus.br/'\n",
    "\n",
    "\n",
    "agel_org_id = 'tse-agel'\n",
    "print('Org: ',agel_org_id)\n",
    "return_freshness_info(portal_url_tse, br_api_action, agel_org_id)\n",
    "print('-----')\n",
    "\n",
    "asepa_org_id = 'tse-asepa'\n",
    "print('Org: ',asepa_org_id)\n",
    "return_freshness_info(portal_url_tse, br_api_action, asepa_org_id)\n",
    "print('-----')\n",
    "\n",
    "#\n",
    "cge_org_id = 'tse-cge'\n",
    "print('Org: ',cge_org_id)\n",
    "return_freshness_info(portal_url_tse, br_api_action, cge_org_id)\n",
    "print('-----')\n",
    "# #\n",
    "sgp_org_id = 'tse-sgp'\n",
    "print('Org: ',sgp_org_id)\n",
    "return_freshness_info(portal_url_tse, br_api_action, sgp_org_id)\n",
    "print('-----')\n",
    "#\n",
    "sti_org_id = 'tse-sti'\n",
    "print('Org: ',sti_org_id)\n",
    "return_freshness_info(portal_url_tse, br_api_action, sti_org_id)\n",
    "print('-----')\n",
    "#\n",
    "sjd_org_id = 'tse-sjd'\n",
    "print('Org: ',sjd_org_id)\n",
    "return_freshness_info(portal_url_tse, br_api_action, sjd_org_id)\n",
    "print('-----')\n"
   ]
  },
  {
   "cell_type": "code",
   "execution_count": 12,
   "id": "53d68183",
   "metadata": {},
   "outputs": [
    {
     "name": "stdout",
     "output_type": "stream",
     "text": [
      "Total of datasets:  43\n",
      "Total of datasets with freshness info available:  12\n",
      "Percentage of dataset with freshness information: 27.91 %\n",
      "Up to date Datasets:  0\n",
      "Not Up to date Datasets:  12\n",
      "Percentage of updated information (of the total that informed freshness): 0.0 %\n"
     ]
    }
   ],
   "source": [
    "# Government Budget and Spending & CGU\n",
    "cgu_org_id = 'ministerio-da-transparencia-e-controladoria-geral-da-uniao-cgu'\n",
    "return_freshness_info(br_portal_url, br_api_action, cgu_org_id)"
   ]
  },
  {
   "cell_type": "code",
   "execution_count": 11,
   "id": "c040ca19",
   "metadata": {},
   "outputs": [
    {
     "name": "stdout",
     "output_type": "stream",
     "text": [
      "Total of datasets:  3\n",
      "Total of datasets with freshness info available:  0\n",
      "Percentage of dataset with freshness information: 0.0 %\n",
      "Up to date Datasets:  0\n",
      "Not Up to date Datasets:  0\n",
      "Percentage of updated information (of the total that informed freshness): 0 %\n"
     ]
    }
   ],
   "source": [
    "# Government Budget and Spending & TCU\n",
    "tcu_org_id = 'tribunal-de-contas-da-uniao-tcu'\n",
    "return_freshness_info(br_portal_url, br_api_action, tcu_org_id)"
   ]
  },
  {
   "cell_type": "code",
   "execution_count": 10,
   "id": "a909ce4b",
   "metadata": {},
   "outputs": [
    {
     "name": "stdout",
     "output_type": "stream",
     "text": [
      "Total of datasets:  46\n",
      "Total of datasets with freshness info available:  27\n",
      "Percentage of dataset with freshness information: 58.7 %\n",
      "Up to date Datasets:  27\n",
      "Not Up to date Datasets:  0\n",
      "Percentage of updated information (of the total that informed freshness): 100.0 %\n"
     ]
    }
   ],
   "source": [
    "# Government Budget and Spending & BNDES\n",
    "portal_url_bndes ='https://dadosabertos.bndes.gov.br/pt_BR/'\n",
    "bndes_org_id = 'bndes'\n",
    "return_freshness_info(portal_url_bndes, br_api_action, bndes_org_id)"
   ]
  },
  {
   "cell_type": "code",
   "execution_count": 177,
   "id": "10f5bedf",
   "metadata": {},
   "outputs": [
    {
     "name": "stdout",
     "output_type": "stream",
     "text": [
      "Total of datasets:  66\n",
      "Total of datasets with freshness info available:  4\n",
      "Percentage of dataset with freshness information: 6.06 %\n",
      "Up to date Datasets:  1\n",
      "Not Up to date Datasets:  3\n",
      "Percentage of updated information (of the total that informed freshness): 25.0 %\n"
     ]
    }
   ],
   "source": [
    "# Pollutant Emissions MMA/IBAMA\n",
    "ibam_org_id = 'instituto-brasileiro-do-meio-ambiente-e-dos-recursos-naturais-renovaveis-ibama'\n",
    "return_freshness_info(br_portal_url, br_api_action, ibam_org_id)"
   ]
  },
  {
   "cell_type": "code",
   "execution_count": 178,
   "id": "60f1699b",
   "metadata": {},
   "outputs": [
    {
     "name": "stdout",
     "output_type": "stream",
     "text": [
      "Total of datasets:  32\n",
      "Total of datasets with freshness info available:  18\n",
      "Percentage of dataset with freshness information: 56.25 %\n",
      "Up to date Datasets:  18\n",
      "Not Up to date Datasets:  0\n",
      "Percentage of updated information (of the total that informed freshness): 100.0 %\n"
     ]
    }
   ],
   "source": [
    "# Pollutant Emissions MMA/IBAMA\n",
    "portal_url_mma = 'https://dados.mma.gov.br/'\n",
    "mma_org_id = 'ministerio-do-meio-ambiente'\n",
    "\n",
    "return_freshness_info(portal_url_mma, br_api_action, mma_org_id)"
   ]
  },
  {
   "cell_type": "code",
   "execution_count": null,
   "id": "470f683a",
   "metadata": {},
   "outputs": [],
   "source": [
    "# Company Register & DREI (NA)\n",
    "# Location datasets & (NA)"
   ]
  },
  {
   "cell_type": "code",
   "execution_count": 13,
   "id": "e6d34768",
   "metadata": {},
   "outputs": [
    {
     "name": "stdout",
     "output_type": "stream",
     "text": [
      "Total of datasets:  308\n",
      "Total of datasets with freshness info available:  0\n",
      "Percentage of dataset with freshness information: 0.0 %\n",
      "Up to date Datasets:  0\n",
      "Not Up to date Datasets:  0\n",
      "Percentage of updated information (of the total that informed freshness): 0 %\n"
     ]
    }
   ],
   "source": [
    "# Water Quality & ANA \n",
    "portal_url_ana = 'https://dados.ana.gov.br/'\n",
    "ana_org_id = 'ana'\n",
    "\n",
    "return_freshness_info(portal_url_ana, br_api_action, ana_org_id)"
   ]
  },
  {
   "cell_type": "code",
   "execution_count": 180,
   "id": "47a6e8f9",
   "metadata": {},
   "outputs": [
    {
     "name": "stdout",
     "output_type": "stream",
     "text": [
      "Total of datasets:  56\n",
      "Total of datasets with freshness info available:  13\n",
      "Percentage of dataset with freshness information: 23.21 %\n",
      "Up to date Datasets:  1\n",
      "Not Up to date Datasets:  12\n",
      "Percentage of updated information (of the total that informed freshness): 7.69 %\n"
     ]
    }
   ],
   "source": [
    "# Weather forecast inmet (https://www.gov.br/agricultura/pt-br/assuntos/inmet)\n",
    "mapam_org_id = 'ministerio-da-agricultura-pecuaria-e-abastecimento-mapa'\n",
    "\n",
    "return_freshness_info(br_portal_url, br_api_action, mapam_org_id)"
   ]
  },
  {
   "cell_type": "code",
   "execution_count": 181,
   "id": "af89a3aa",
   "metadata": {},
   "outputs": [
    {
     "name": "stdout",
     "output_type": "stream",
     "text": [
      "Total of datasets:  1\n",
      "Total of datasets with freshness info available:  0\n",
      "Percentage of dataset with freshness information: 0.0 %\n",
      "Up to date Datasets:  0\n",
      "Not Up to date Datasets:  0\n",
      "Percentage of updated information (of the total that informed freshness): 0 %\n"
     ]
    }
   ],
   "source": [
    "# Land Ownership & INCRA\n",
    "\n",
    "incra_org_id = 'instituto-nacional-de-colonizacao-e-reforma-agraria-incra'\n",
    "return_freshness_info(br_portal_url, br_api_action, incra_org_id)"
   ]
  },
  {
   "cell_type": "code",
   "execution_count": 9,
   "id": "68054dbf",
   "metadata": {},
   "outputs": [],
   "source": [
    "# CALCULATIONS\n",
    "from unidecode import unidecode\n",
    "import re\n",
    "from datetime import datetime\n",
    "from dateutil.relativedelta import relativedelta\n",
    "    \n",
    "def get_dataset_qty(portal_url,api_action, org_id):\n",
    "    portal_url = portal_url\n",
    "    api_action = api_action\n",
    "    add_organization = f'fq=organization:{org_id}'\n",
    "    url = f'{portal_url}{api_action}?{add_organization}' # https://legado.dados.gov.br/api/3/action/package_search?fq=organization:instituto-brasileiro-de-geografia-e-estatistica-ibge\n",
    "    \n",
    "    result_count = pd.read_json(url).get(\"result\") \n",
    "    c = result_count['count']\n",
    "    \n",
    "    url_bulk = f'{portal_url}{api_action}?rows={c}&start=0&{add_organization}' # https://legado.dados.gov.br/api/3/action/package_search?rows=424&start=1&fq=organization:instituto-brasileiro-de-geografia-e-estatistica-ibge\n",
    "    \n",
    "    result = pd.read_json(url_bulk).get(\"result\")\n",
    "    resultS = result['results']\n",
    "    return resultS\n",
    "\n",
    "def trunc_datetime(someDate):\n",
    "    return someDate.replace(day=1)\n",
    "\n",
    "def get_dataset_with_updatefrequency_attribute(resultS):\n",
    "\n",
    "\n",
    "    period = ['bianual', 'semestral', 'diario', 'semanal', 'quinzenal', 'mensal', 'bimensal'\n",
    "              , 'trimestral', 'anual', 'bienal', '12']\n",
    "\n",
    "    up_to_date_list = []\n",
    "    up_to_date_dict = {}\n",
    "    no_update_window_reported = 0\n",
    "    \n",
    "\n",
    "    for x in range(len(resultS)): \n",
    "\n",
    "        unable_to_determine_freshness = 0\n",
    "        last_modified = resultS[x]['metadata_modified']\n",
    "        match = re.search(r'\\d{4}-\\d{2}-\\d{2}', last_modified)\n",
    "        last_modified_date = datetime.strptime(match.group(), '%Y-%m-%d').date()\n",
    "\n",
    "        creation_date = resultS[x]['metadata_created']\n",
    "        match_c = re.search(r'\\d{4}-\\d{2}-\\d{2}', creation_date)\n",
    "        creation_date_parse = datetime.strptime(match_c.group(), '%Y-%m-%d').date()\n",
    "\n",
    "\n",
    "        try:\n",
    "            qty = len(resultS[x]['extras'])\n",
    "        except:\n",
    "            qty = 0\n",
    "        \n",
    "        if qty > 0 : \n",
    "            \n",
    "            for y in range(qty):\n",
    "                update_window_reported = False\n",
    "\n",
    "                extra_dicty = resultS[x]['extras'][y]      \n",
    "                if \"frequencia de atualizacao\" in unidecode(extra_dicty['key'].lower()) \\\n",
    "                    or \"frequencia atualizacao (meses)\" in unidecode(extra_dicty['key'].lower()) \\\n",
    "                    or \"periodicidade\" in unidecode(extra_dicty['key'].lower()) \\\n",
    "                    or \"frequencia de publicacao\" in unidecode(extra_dicty['key'].lower()):\n",
    "\n",
    "                    for p in period:\n",
    "                        if p in unidecode(extra_dicty['value']).lower():\n",
    "\n",
    "                            diff = last_modified_date - creation_date_parse\n",
    "                            rdiff = relativedelta(last_modified_date,creation_date_parse).years\n",
    "\n",
    "                            up_to_date_list.append((str(x)+'_'+unidecode(extra_dicty['value'].lower())) )\n",
    "                            up_to_date_dict[(str(x)+'_'+unidecode(extra_dicty['value'].lower()))] =  str(last_modified_date)\n",
    "                            \n",
    "                            update_window_reported = True\n",
    "                            break\n",
    "                              \n",
    "\n",
    "            if not update_window_reported:\n",
    "                no_update_window_reported += 1\n",
    "\n",
    "\n",
    "\n",
    "        else:\n",
    "            no_update_window_reported += 1\n",
    "    return up_to_date_dict, no_update_window_reported \n",
    "\n",
    "def get_uptodate_info(up_to_date_dict):\n",
    "    import datetime\n",
    "    from datetime import date\n",
    "    \n",
    "    period = ['bianual', 'semestral', 'diario', 'semanal', 'quinzenal', 'mensal', 'bimensal' , 'trimestral', 'anual', 'bienal', '12']\n",
    "    contador = 0 \n",
    "    up_to_date_counter = 0\n",
    "    not_up_to_date_counter = 0\n",
    "\n",
    "    now = datetime.datetime.now()\n",
    "    last_month = now.month-1 if now.month > 1 else 12\n",
    "    last_six_months_date = date.today() - relativedelta(months=6)\n",
    "    two_yrs_ago = date.today() - relativedelta(years=2)\n",
    "    last_year = date.today() - relativedelta(years=1)\n",
    "    yesterday = date.today() - relativedelta(days=1)\n",
    "    last_week = date.today() - relativedelta(weeks=1)\n",
    "    last_two_week = date.today() - relativedelta(weeks=2)\n",
    "    last_month = date.today() - relativedelta(months=1)\n",
    "    last_two_months = date.today() - relativedelta(months=2)\n",
    "    last_three_months = date.today() - relativedelta(months=2)\n",
    "    \n",
    "    for key in up_to_date_dict:\n",
    "\n",
    "        for i in range(len(period)):\n",
    "            if period[i] in key :\n",
    "                from datetime import datetime\n",
    "                last_modified = datetime.strptime(up_to_date_dict[key], '%Y-%m-%d')\n",
    "                # print(last_modified.date())\n",
    "                '''\n",
    "                biannual/semester: twice a year. \n",
    "                it will be checked if the month of the last update is within the last 6 months\n",
    "                '''\n",
    "                if period[i] == 'bianual': \n",
    "\n",
    "                    if trunc_datetime(last_modified.date()) >= trunc_datetime(last_six_months_date):\n",
    "                        up_to_date_counter +=1\n",
    "                    else:\n",
    "                        not_up_to_date_counter +=1\n",
    "\n",
    "                if period[i] == 'semestral':\n",
    "                    if trunc_datetime(last_modified.date()) >= trunc_datetime(last_six_months_date):\n",
    "                        up_to_date_counter +=1\n",
    "                    else:\n",
    "                        not_up_to_date_counter +=1\n",
    "\n",
    "                if period[i] == 'anual' or period[i] == '12' :\n",
    "                    if last_modified.year >= last_year.year:\n",
    "                        up_to_date_counter +=1\n",
    "                    else:\n",
    "                        not_up_to_date_counter +=1\n",
    "\n",
    "                if period[i] == 'bienal':               \n",
    "                    if last_modified.year >= two_yrs_ago.year:\n",
    "                        up_to_date_counter +=1\n",
    "                    else:\n",
    "                        not_up_to_date_counter +=1\n",
    "\n",
    "                if period[i] == 'diario':               \n",
    "                    if last_modified.date() >= yesterday:\n",
    "                        up_to_date_counter +=1\n",
    "                    else:\n",
    "                        not_up_to_date_counter +=1  \n",
    "\n",
    "                if period[i] == 'semanal':               \n",
    "                    if last_modified.date() >= last_week:\n",
    "                        up_to_date_counter +=1\n",
    "                    else:\n",
    "                        not_up_to_date_counter +=1  \n",
    "\n",
    "                if period[i] == 'quinzenal':               \n",
    "                    if last_modified.date() >= last_two_week:\n",
    "                        up_to_date_counter +=1\n",
    "                    else:\n",
    "                        not_up_to_date_counter +=1 \n",
    "\n",
    "                if period[i] == 'mensal':               \n",
    "                    if last_modified.date() >= last_month:\n",
    "                        up_to_date_counter +=1\n",
    "                    else:\n",
    "                        not_up_to_date_counter +=1 \n",
    "\n",
    "                if period[i] == 'bimensal':               \n",
    "                    if last_modified.date() >= last_two_months:\n",
    "                        up_to_date_counter +=1\n",
    "                    else:\n",
    "                        not_up_to_date_counter +=1 \n",
    "\n",
    "                if period[i] == 'trimestral':               \n",
    "                    if last_modified.date() >= last_three_months:\n",
    "                        up_to_date_counter +=1\n",
    "                    else:\n",
    "                        not_up_to_date_counter +=1 \n",
    "\n",
    "\n",
    "                contador += 1\n",
    "                break\n",
    "\n",
    "\n",
    "    return up_to_date_counter, not_up_to_date_counter, contador\n",
    "\n",
    "\n",
    "def return_freshness_info(br_portal_url, br_api_action, org_id):\n",
    "    resultS = get_dataset_qty(br_portal_url, br_api_action, org_id)\n",
    "\n",
    "\n",
    "\n",
    "    # return up_to_date_dict, no_update_window_reported\n",
    "    up_to_date_results = get_dataset_with_updatefrequency_attribute(resultS)\n",
    "    update_info_available = len(up_to_date_results[0])\n",
    "    \n",
    "    print('Total of datasets: ', len(resultS))\n",
    "    print('Total of datasets with freshness info available: ', update_info_available)\n",
    "    \n",
    "    total_datasets_with_some_fressness_information = update_info_available\n",
    "    perc_total = total_datasets_with_some_fressness_information/len(resultS) if len(resultS) > 0 else 0\n",
    "    print('Percentage of dataset with freshness information:', str(round(perc_total * 100, 2)), '%' )\n",
    "\n",
    "    parsed_update_info = get_uptodate_info(up_to_date_results[0])\n",
    "    up_to_date_counter = parsed_update_info[0]\n",
    "    not_up_to_date_counter = parsed_update_info[1]\n",
    "\n",
    "    print('Up to date Datasets: ', up_to_date_counter)\n",
    "    print('Not Up to date Datasets: ', not_up_to_date_counter)\n",
    "    \n",
    "    perc_fresh = up_to_date_counter/update_info_available if update_info_available > 0 else 0\n",
    "    print('Percentage of updated information (of the total that informed freshness):', str(round(perc_fresh * 100, 2)), '%')\n"
   ]
  },
  {
   "cell_type": "code",
   "execution_count": null,
   "id": "02f3fa2f",
   "metadata": {},
   "outputs": [],
   "source": []
  }
 ],
 "metadata": {
  "kernelspec": {
   "display_name": "Python 3 (ipykernel)",
   "language": "python",
   "name": "python3"
  },
  "language_info": {
   "codemirror_mode": {
    "name": "ipython",
    "version": 3
   },
   "file_extension": ".py",
   "mimetype": "text/x-python",
   "name": "python",
   "nbconvert_exporter": "python",
   "pygments_lexer": "ipython3",
   "version": "3.8.10"
  }
 },
 "nbformat": 4,
 "nbformat_minor": 5
}
