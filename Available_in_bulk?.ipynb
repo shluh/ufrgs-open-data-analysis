{
 "cells": [
  {
   "cell_type": "code",
   "execution_count": 2,
   "id": "0cd00cac",
   "metadata": {},
   "outputs": [],
   "source": [
    "# importing libs\n",
    "get_ipython().magic(u'matplotlib inline')\n",
    "import pandas as pd\n",
    "import matplotlib.pyplot as plt\n",
    "import requests\n",
    "import json\n",
    "import operator\n",
    "plt.style.use(\"ggplot\")"
   ]
  },
  {
   "cell_type": "code",
   "execution_count": 3,
   "id": "3f69b3c1",
   "metadata": {},
   "outputs": [],
   "source": [
    "portal_url = 'https://legado.dados.gov.br/'\n",
    "api_action = f'api/3/action/package_search' "
   ]
  },
  {
   "cell_type": "code",
   "execution_count": 4,
   "id": "09e5d410",
   "metadata": {},
   "outputs": [],
   "source": [
    "  \n",
    "def get_bulk_list(portal_url,api_action,org_id):\n",
    "    \n",
    "    add_organization = f'fq=organization:{org_id}'\n",
    "    url_get_resources_qtde = f'{portal_url}{api_action}?{add_organization}'\n",
    "\n",
    "    result_count = pd.read_json(url_get_resources_qtde).get(\"result\") \n",
    "    c = result_count['count']\n",
    "\n",
    "    url_bulk = f'{portal_url}{api_action}?rows={c}&start=0&{add_organization}'\n",
    "    result = pd.read_json(url_bulk).get(\"result\")\n",
    "    resultS = result['results']\n",
    "\n",
    "    bulk_urls = [] \n",
    "\n",
    "    for x in range(len(resultS)): \n",
    "        get_num_resourced = resultS[x]['num_resources']\n",
    "\n",
    "        for y in range (get_num_resourced):\n",
    "            if resultS[x]['resources'][y]['format'].lower() in ['xls', 'csv', 'json', 'xml']:\n",
    "                bulk_urls.append(resultS[x]['resources'][y]['url'])\n",
    "    return bulk_urls\n",
    "                \n",
    "def get_bulks_status(bulk_urls):\n",
    "\n",
    "    status_ok = 0\n",
    "    status_nok = 0\n",
    "\n",
    "    for x in bulk_urls:\n",
    "        try:\n",
    "            r = requests.get(x, timeout=15)\n",
    "            if r.status_code == 200:\n",
    "                status_ok += 1\n",
    "            else:\n",
    "                status_nok += 1 \n",
    "        except:\n",
    "            status_nok += 1 \n",
    "    \n",
    "    print('Resource Available. Status 200:', status_ok)\n",
    "    print('Resource Unavailable. Status other than 200, or returned time out:', status_nok)\n"
   ]
  },
  {
   "cell_type": "code",
   "execution_count": 50,
   "id": "8567c670",
   "metadata": {},
   "outputs": [],
   "source": [
    "# National Statistics+National Map  & IBGE \n",
    "org_id = 'instituto-brasileiro-de-geografia-e-estatistica-ibge'\n",
    "\n",
    "# status_ok: 496; status_nok: 91"
   ]
  },
  {
   "cell_type": "code",
   "execution_count": 51,
   "id": "b1c63d92",
   "metadata": {},
   "outputs": [
    {
     "name": "stdout",
     "output_type": "stream",
     "text": [
      "Resource Available. Status 200: 8\n",
      "Resource Unavailable. Status other than 200, or return time out: 0\n"
     ]
    }
   ],
   "source": [
    "# National Statistics+National Map & IPEA\n",
    "ipea_org_id = 'ipea'\n",
    "get_bulks_status(get_bulk_list(portal_url,api_action,ipea_org_id))"
   ]
  },
  {
   "cell_type": "code",
   "execution_count": 52,
   "id": "038f9201",
   "metadata": {},
   "outputs": [
    {
     "name": "stdout",
     "output_type": "stream",
     "text": [
      "Resource Available. Status 200: 16\n",
      "Resource Unavailable. Status other than 200, or return time out: 0\n"
     ]
    }
   ],
   "source": [
    "# Legislation \n",
    "sf_org_id = 'senado-federal-sf'\n",
    "get_bulks_status(get_bulk_list(portal_url,api_action,sf_org_id))"
   ]
  },
  {
   "cell_type": "code",
   "execution_count": null,
   "id": "b70c667c",
   "metadata": {},
   "outputs": [
    {
     "name": "stdout",
     "output_type": "stream",
     "text": [
      "Org:  tse-agel\n"
     ]
    }
   ],
   "source": [
    "# Election Results & TSE\n",
    "portal_url_tse = 'https://dadosabertos.tse.jus.br/'\n",
    "agel_org_id = 'tse-agel'\n",
    "print('Org: ',agel_org_id)\n",
    "get_bulks_status(get_bulk_list(portal_url_tse, api_action, agel_org_id))\n",
    "print('-----')\n",
    "\n"
   ]
  },
  {
   "cell_type": "code",
   "execution_count": 9,
   "id": "764dac2d",
   "metadata": {},
   "outputs": [
    {
     "name": "stdout",
     "output_type": "stream",
     "text": [
      "Org:  tse-asepa\n",
      "Resource Available. Status 200: 46\n",
      "Resource Unavailable. Status other than 200, or returned time out: 2\n",
      "-----\n"
     ]
    }
   ],
   "source": [
    "# Election Results & TSE\n",
    "portal_url_tse = 'https://dadosabertos.tse.jus.br/'\n",
    "asepa_org_id = 'tse-asepa'\n",
    "print('Org: ',asepa_org_id)\n",
    "get_bulks_status(get_bulk_list(portal_url_tse, api_action, asepa_org_id))\n",
    "print('-----')"
   ]
  },
  {
   "cell_type": "code",
   "execution_count": 8,
   "id": "83d83310",
   "metadata": {},
   "outputs": [
    {
     "name": "stdout",
     "output_type": "stream",
     "text": [
      "Org:  tse-cge\n",
      "Resource Available. Status 200: 12\n",
      "Resource Unavailable. Status other than 200, or returned time out: 0\n",
      "-----\n"
     ]
    }
   ],
   "source": [
    "# Election Results & TSE\n",
    "portal_url_tse = 'https://dadosabertos.tse.jus.br/'\n",
    "cge_org_id = 'tse-cge'\n",
    "print('Org: ',cge_org_id)\n",
    "get_bulks_status(get_bulk_list(portal_url_tse, api_action, cge_org_id))\n",
    "print('-----')"
   ]
  },
  {
   "cell_type": "code",
   "execution_count": 5,
   "id": "e1e57dd8",
   "metadata": {},
   "outputs": [
    {
     "name": "stdout",
     "output_type": "stream",
     "text": [
      "Org:  tse-sgp\n",
      "Resource Available. Status 200: 4\n",
      "Resource Unavailable. Status other than 200, or returned time out: 0\n",
      "-----\n"
     ]
    }
   ],
   "source": [
    "# Election Results & TSE\n",
    "portal_url_tse = 'https://dadosabertos.tse.jus.br/'\n",
    "sgp_org_id = 'tse-sgp'\n",
    "print('Org: ',sgp_org_id)\n",
    "get_bulks_status(get_bulk_list(portal_url_tse, api_action, sgp_org_id))\n",
    "print('-----')"
   ]
  },
  {
   "cell_type": "code",
   "execution_count": 6,
   "id": "fded6541",
   "metadata": {},
   "outputs": [
    {
     "name": "stdout",
     "output_type": "stream",
     "text": [
      "Org:  tse-sti\n",
      "Resource Available. Status 200: 1\n",
      "Resource Unavailable. Status other than 200, or returned time out: 0\n",
      "-----\n"
     ]
    }
   ],
   "source": [
    "# Election Results & TSE\n",
    "portal_url_tse = 'https://dadosabertos.tse.jus.br/'\n",
    "sti_org_id = 'tse-sti'\n",
    "print('Org: ',sti_org_id)\n",
    "get_bulks_status(get_bulk_list(portal_url_tse, api_action, sti_org_id))\n",
    "print('-----')"
   ]
  },
  {
   "cell_type": "code",
   "execution_count": 7,
   "id": "c9711967",
   "metadata": {},
   "outputs": [
    {
     "name": "stdout",
     "output_type": "stream",
     "text": [
      "Org:  tse-sjd\n",
      "Resource Available. Status 200: 34\n",
      "Resource Unavailable. Status other than 200, or returned time out: 0\n",
      "-----\n"
     ]
    }
   ],
   "source": [
    "# Election Results & TSE\n",
    "portal_url_tse = 'https://dadosabertos.tse.jus.br/'\n",
    "sjd_org_id = 'tse-sjd'\n",
    "print('Org: ',sjd_org_id)\n",
    "get_bulks_status(get_bulk_list(portal_url_tse, api_action, sjd_org_id))\n",
    "print('-----')"
   ]
  },
  {
   "cell_type": "code",
   "execution_count": 7,
   "id": "c30e84c5",
   "metadata": {},
   "outputs": [
    {
     "name": "stdout",
     "output_type": "stream",
     "text": [
      "Resource Available. Status 200: 16\n",
      "Resource Unavailable. Status other than 200, or returned time out: 1\n"
     ]
    }
   ],
   "source": [
    "# Government Budget and Spending & CGU\n",
    "cgu_org_id = 'ministerio-da-transparencia-e-controladoria-geral-da-uniao-cgu'\n",
    "get_bulks_status(get_bulk_list(portal_url,api_action,cgu_org_id))"
   ]
  },
  {
   "cell_type": "code",
   "execution_count": 8,
   "id": "957e88ad",
   "metadata": {},
   "outputs": [
    {
     "name": "stdout",
     "output_type": "stream",
     "text": [
      "Resource Available. Status 200: 2\n",
      "Resource Unavailable. Status other than 200, or returned time out: 0\n"
     ]
    }
   ],
   "source": [
    "# Government Budget and Spending & TCU\n",
    "tcu_org_id = 'tribunal-de-contas-da-uniao-tcu'\n",
    "get_bulks_status(get_bulk_list(portal_url,api_action,tcu_org_id))"
   ]
  },
  {
   "cell_type": "code",
   "execution_count": 9,
   "id": "578cb101",
   "metadata": {},
   "outputs": [
    {
     "name": "stdout",
     "output_type": "stream",
     "text": [
      "Resource Available. Status 200: 316\n",
      "Resource Unavailable. Status other than 200, or returned time out: 0\n"
     ]
    }
   ],
   "source": [
    "# Government Budget and Spending & BNDES\n",
    "portal_url_bndes ='https://dadosabertos.bndes.gov.br/pt_BR/'\n",
    "bndes_org_id = 'bndes'\n",
    "get_bulks_status(get_bulk_list(portal_url_bndes,api_action,bndes_org_id))"
   ]
  },
  {
   "cell_type": "code",
   "execution_count": 10,
   "id": "dffe5e05",
   "metadata": {},
   "outputs": [
    {
     "name": "stdout",
     "output_type": "stream",
     "text": [
      "Resource Available. Status 200: 110\n",
      "Resource Unavailable. Status other than 200, or returned time out: 0\n"
     ]
    }
   ],
   "source": [
    "# Pollutant Emissions & MMA\n",
    "portal_url_mma = 'https://dados.mma.gov.br/'\n",
    "mma_org_id = 'ministerio-do-meio-ambiente'\n",
    "get_bulks_status(get_bulk_list(portal_url_mma,api_action,mma_org_id))"
   ]
  },
  {
   "cell_type": "code",
   "execution_count": 11,
   "id": "9c1c2828",
   "metadata": {},
   "outputs": [
    {
     "name": "stdout",
     "output_type": "stream",
     "text": [
      "Resource Available. Status 200: 18\n",
      "Resource Unavailable. Status other than 200, or returned time out: 217\n"
     ]
    }
   ],
   "source": [
    "# Pollutant Emissions & IBAMA\n",
    "ibama_org_id = 'instituto-brasileiro-do-meio-ambiente-e-dos-recursos-naturais-renovaveis-ibama'\n",
    "get_bulks_status(get_bulk_list(portal_url,api_action,ibama_org_id))"
   ]
  },
  {
   "cell_type": "code",
   "execution_count": null,
   "id": "77d96d33",
   "metadata": {},
   "outputs": [],
   "source": [
    "# Company Register & DREI (NA)\n",
    "# Location datasets & (NA)"
   ]
  },
  {
   "cell_type": "code",
   "execution_count": 12,
   "id": "dd9473f9",
   "metadata": {},
   "outputs": [
    {
     "name": "stdout",
     "output_type": "stream",
     "text": [
      "Resource Available. Status 200: 240\n",
      "Resource Unavailable. Status other than 200, or returned time out: 9\n"
     ]
    }
   ],
   "source": [
    "# Water Quality & ANA \n",
    "portal_url_ana = 'https://dados.ana.gov.br/'\n",
    "ana_org_id = 'ana'\n",
    "get_bulks_status(get_bulk_list(portal_url_ana,api_action,ana_org_id))"
   ]
  },
  {
   "cell_type": "code",
   "execution_count": 13,
   "id": "4a2ee957",
   "metadata": {},
   "outputs": [
    {
     "name": "stdout",
     "output_type": "stream",
     "text": [
      "Resource Available. Status 200: 293\n",
      "Resource Unavailable. Status other than 200, or returned time out: 32\n"
     ]
    }
   ],
   "source": [
    "# Weather forecast & INMET\n",
    "inmet_org_id = 'ministerio-da-agricultura-pecuaria-e-abastecimento-mapa'\n",
    "get_bulks_status(get_bulk_list(portal_url,api_action,inmet_org_id))"
   ]
  },
  {
   "cell_type": "code",
   "execution_count": 15,
   "id": "f4372e0c",
   "metadata": {},
   "outputs": [
    {
     "name": "stdout",
     "output_type": "stream",
     "text": [
      "Resource Available. Status 200: 0\n",
      "Resource Unavailable. Status other than 200, or returned time out: 0\n"
     ]
    }
   ],
   "source": [
    "# Land Ownership & INCRA\n",
    "incra_org_id = 'instituto-nacional-de-colonizacao-e-reforma-agraria-incra'\n",
    "get_bulks_status(get_bulk_list(portal_url,api_action,incra_org_id))"
   ]
  },
  {
   "cell_type": "code",
   "execution_count": 38,
   "id": "947c38f0",
   "metadata": {},
   "outputs": [],
   "source": []
  },
  {
   "cell_type": "code",
   "execution_count": null,
   "id": "3272fb99",
   "metadata": {},
   "outputs": [],
   "source": []
  }
 ],
 "metadata": {
  "kernelspec": {
   "display_name": "Python 3 (ipykernel)",
   "language": "python",
   "name": "python3"
  },
  "language_info": {
   "codemirror_mode": {
    "name": "ipython",
    "version": 3
   },
   "file_extension": ".py",
   "mimetype": "text/x-python",
   "name": "python",
   "nbconvert_exporter": "python",
   "pygments_lexer": "ipython3",
   "version": "3.8.10"
  }
 },
 "nbformat": 4,
 "nbformat_minor": 5
}
